{
 "cells": [
  {
   "cell_type": "markdown",
   "metadata": {
    "deletable": true,
    "editable": true
   },
   "source": [
    "# Self-Driving Car Engineer Nanodegree\n",
    "\n",
    "## Deep Learning\n",
    "\n",
    "## Project: Build a Traffic Sign Recognition Classifier\n",
    "\n",
    "In this notebook, a template is provided for you to implement your functionality in stages, which is required to successfully complete this project. If additional code is required that cannot be included in the notebook, be sure that the Python code is successfully imported and included in your submission if necessary. \n",
    "\n",
    "> **Note**: Once you have completed all of the code implementations, you need to finalize your work by exporting the iPython Notebook as an HTML document. Before exporting the notebook to html, all of the code cells need to have been run so that reviewers can see the final implementation and output. You can then export the notebook by using the menu above and navigating to  \\n\",\n",
    "    \"**File -> Download as -> HTML (.html)**. Include the finished document along with this notebook as your submission. \n",
    "\n",
    "In addition to implementing code, there is a writeup to complete. The writeup should be completed in a separate file, which can be either a markdown file or a pdf document. There is a [write up template](https://github.com/udacity/CarND-Traffic-Sign-Classifier-Project/blob/master/writeup_template.md) that can be used to guide the writing process. Completing the code template and writeup template will cover all of the [rubric points](https://review.udacity.com/#!/rubrics/481/view) for this project.\n",
    "\n",
    "The [rubric](https://review.udacity.com/#!/rubrics/481/view) contains \"Stand Out Suggestions\" for enhancing the project beyond the minimum requirements. The stand out suggestions are optional. If you decide to pursue the \"stand out suggestions\", you can include the code in this Ipython notebook and also discuss the results in the writeup file.\n",
    "\n",
    "\n",
    ">**Note:** Code and Markdown cells can be executed using the **Shift + Enter** keyboard shortcut. In addition, Markdown cells can be edited by typically double-clicking the cell to enter edit mode."
   ]
  },
  {
   "cell_type": "markdown",
   "metadata": {
    "deletable": true,
    "editable": true
   },
   "source": [
    "---\n",
    "## Imports"
   ]
  },
  {
   "cell_type": "code",
   "execution_count": 57,
   "metadata": {
    "collapsed": true,
    "deletable": true,
    "editable": true
   },
   "outputs": [],
   "source": [
    "# CELL 1\n",
    "import pickle\n",
    "\n",
    "import matplotlib.pyplot as plt\n",
    "import numpy as np\n",
    "import random as rnd\n",
    "# Visualizations will be shown in the notebook.\n",
    "%matplotlib inline\n",
    "\n",
    "import tensorflow as tf\n",
    "from tensorflow.contrib.layers import flatten\n",
    "\n",
    "from sklearn.utils import shuffle\n",
    "import skimage.transform\n",
    "\n",
    "import cv2\n",
    "\n",
    "import csv\n",
    "\n",
    "import seaborn as sbs\n",
    "sbs.set()"
   ]
  },
  {
   "cell_type": "markdown",
   "metadata": {
    "deletable": true,
    "editable": true
   },
   "source": [
    "---\n",
    "## Step 0: Load The Data"
   ]
  },
  {
   "cell_type": "code",
   "execution_count": 4,
   "metadata": {
    "collapsed": false,
    "deletable": true,
    "editable": true
   },
   "outputs": [],
   "source": [
    "# CELL 2\n",
    "training_file = './datasets/gts/train.p'\n",
    "validation_file= './datasets/gts/valid.p'\n",
    "testing_file = './datasets/gts/test.p'\n",
    "\n",
    "with open(training_file, mode='rb') as f:\n",
    "    train = pickle.load(f)\n",
    "with open(validation_file, mode='rb') as f:\n",
    "    valid = pickle.load(f)\n",
    "with open(testing_file, mode='rb') as f:\n",
    "    test = pickle.load(f)\n",
    "    \n",
    "X_train, y_train = train['features'], train['labels']\n",
    "X_valid, y_valid = valid['features'], valid['labels']\n",
    "X_test, y_test = test['features'], test['labels']"
   ]
  },
  {
   "cell_type": "markdown",
   "metadata": {
    "deletable": true,
    "editable": true
   },
   "source": [
    "---\n",
    "\n",
    "## Step 1: Dataset Summary & Exploration\n",
    "\n",
    "The pickled data is a dictionary with 4 key/value pairs:\n",
    "\n",
    "- `'features'` is a 4D array containing raw pixel data of the traffic sign images, (num examples, width, height, channels).\n",
    "- `'labels'` is a 1D array containing the label/class id of the traffic sign. The file `signnames.csv` contains id -> name mappings for each id.\n",
    "- `'sizes'` is a list containing tuples, (width, height) representing the original width and height the image.\n",
    "- `'coords'` is a list containing tuples, (x1, y1, x2, y2) representing coordinates of a bounding box around the sign in the image. **THESE COORDINATES ASSUME THE ORIGINAL IMAGE. THE PICKLED DATA CONTAINS RESIZED VERSIONS (32 by 32) OF THESE IMAGES**\n",
    "\n",
    "Complete the basic data summary below. Use python, numpy and/or pandas methods to calculate the data summary rather than hard coding the results. For example, the [pandas shape method](http://pandas.pydata.org/pandas-docs/stable/generated/pandas.DataFrame.shape.html) might be useful for calculating some of the summary results. "
   ]
  },
  {
   "cell_type": "markdown",
   "metadata": {
    "deletable": true,
    "editable": true
   },
   "source": [
    "### Provide a Basic Summary of the Data Set Using Python, Numpy and/or Pandas"
   ]
  },
  {
   "cell_type": "code",
   "execution_count": 5,
   "metadata": {
    "collapsed": false,
    "deletable": true,
    "editable": true
   },
   "outputs": [
    {
     "name": "stdout",
     "output_type": "stream",
     "text": [
      "Number of training examples = 34799\n",
      "Number of validation examples = 4410\n",
      "Number of testing examples = 12630\n",
      "Image data shape = (32, 32, 3)\n",
      "Number of classes (train) = 43\n",
      "Number of classes (test) = 43\n",
      "Number of classes (valid) = 43\n",
      "0 Speed limit (20km/h)\n",
      "1 Speed limit (30km/h)\n",
      "2 Speed limit (50km/h)\n",
      "3 Speed limit (60km/h)\n",
      "4 Speed limit (70km/h)\n",
      "5 Speed limit (80km/h)\n",
      "6 End of speed limit (80km/h)\n",
      "7 Speed limit (100km/h)\n",
      "8 Speed limit (120km/h)\n",
      "9 No passing\n",
      "10 No passing for vehicles over 3.5 metric tons\n",
      "11 Right-of-way at the next intersection\n",
      "12 Priority road\n",
      "13 Yield\n",
      "14 Stop\n",
      "15 No vehicles\n",
      "16 Vehicles over 3.5 metric tons prohibited\n",
      "17 No entry\n",
      "18 General caution\n",
      "19 Dangerous curve to the left\n",
      "20 Dangerous curve to the right\n",
      "21 Double curve\n",
      "22 Bumpy road\n",
      "23 Slippery road\n",
      "24 Road narrows on the right\n",
      "25 Road work\n",
      "26 Traffic signals\n",
      "27 Pedestrians\n",
      "28 Children crossing\n",
      "29 Bicycles crossing\n",
      "30 Beware of ice/snow\n",
      "31 Wild animals crossing\n",
      "32 End of all speed and passing limits\n",
      "33 Turn right ahead\n",
      "34 Turn left ahead\n",
      "35 Ahead only\n",
      "36 Go straight or right\n",
      "37 Go straight or left\n",
      "38 Keep right\n",
      "39 Keep left\n",
      "40 Roundabout mandatory\n",
      "41 End of no passing\n",
      "42 End of no passing by vehicles over 3.5 metric tons\n"
     ]
    }
   ],
   "source": [
    "# CELL 3\n",
    "\n",
    "# Number of training examples\n",
    "n_train = len(X_train)\n",
    "\n",
    "# Number of testing examples.\n",
    "n_test = len(X_test)\n",
    "\n",
    "# Number of validation examples\n",
    "n_valid = len(X_valid)\n",
    "\n",
    "# What's the shape of an traffic sign image?\n",
    "image_shape = X_train[0].shape\n",
    "\n",
    "# How many unique classes/labels there are in the dataset.\n",
    "n_classes = len(set(y_train))\n",
    "n_classes_test = len(set(y_test))\n",
    "n_classes_valid = len(set(y_valid))\n",
    "\n",
    "# Print summary\n",
    "print(\"Number of training examples =\", n_train)\n",
    "print(\"Number of validation examples =\", n_valid)\n",
    "print(\"Number of testing examples =\", n_test)\n",
    "print(\"Image data shape =\", image_shape)\n",
    "print(\"Number of classes (train) =\", n_classes)\n",
    "print(\"Number of classes (test) =\", n_classes_test)\n",
    "print(\"Number of classes (valid) =\", n_classes_valid)\n",
    "\n",
    "# Explore and print class IDs and their corresponding sign names\n",
    "with open('signnames.csv') as csvfile:\n",
    "    reader = csv.DictReader(csvfile)\n",
    "    for row in reader:\n",
    "        print(row['ClassId'], row['SignName'])"
   ]
  },
  {
   "cell_type": "markdown",
   "metadata": {
    "deletable": true,
    "editable": true
   },
   "source": [
    "### Include an exploratory visualization of the dataset"
   ]
  },
  {
   "cell_type": "markdown",
   "metadata": {
    "deletable": true,
    "editable": true
   },
   "source": [
    "Visualize the German Traffic Signs Dataset using the pickled file(s). This is open ended, suggestions include: plotting traffic sign images, plotting the count of each sign, etc.\n",
    "\n",
    "The [Matplotlib](http://matplotlib.org/) [examples](http://matplotlib.org/examples/index.html) and [gallery](http://matplotlib.org/gallery.html) pages are a great resource for doing visualizations in Python.\n",
    "\n",
    "**NOTE:** It's recommended you start with something simple first. If you wish to do more, come back to it after you've completed the rest of the sections."
   ]
  },
  {
   "cell_type": "code",
   "execution_count": 60,
   "metadata": {
    "collapsed": false,
    "deletable": true,
    "editable": true
   },
   "outputs": [
    {
     "name": "stdout",
     "output_type": "stream",
     "text": [
      "[180, 1980, 2010, 1260, 1770, 1650, 360, 1290, 1260, 1320, 1800, 1170, 1890, 1920, 690, 540, 360, 990, 1080, 180, 300, 270, 330, 450, 240, 1350, 540, 210, 480, 240, 390, 690, 210, 599, 360, 1080, 330, 180, 1860, 270, 300, 210, 210]\n",
      "[60, 720, 750, 450, 660, 630, 150, 450, 450, 480, 660, 420, 690, 720, 270, 210, 150, 360, 390, 60, 90, 90, 120, 150, 90, 480, 180, 60, 150, 90, 150, 270, 60, 210, 120, 390, 120, 60, 690, 90, 90, 60, 90]\n",
      "[30, 240, 240, 150, 210, 210, 60, 150, 150, 150, 210, 150, 210, 240, 90, 90, 60, 120, 120, 30, 60, 60, 60, 60, 30, 150, 60, 30, 60, 30, 60, 90, 30, 90, 60, 120, 60, 30, 210, 30, 60, 30, 30]\n"
     ]
    },
    {
     "data": {
      "image/png": "[encoded data removed]",
      "text/plain": [
       "<matplotlib.figure.Figure at 0x7f7e9c41fb00>"
      ]
     },
     "metadata": {},
     "output_type": "display_data"
    },
    {
     "data": {
      "image/png": "[encoded data removed]",
      "text/plain": [
       "<matplotlib.figure.Figure at 0x7f7e9c4293c8>"
      ]
     },
     "metadata": {},
     "output_type": "display_data"
    },
    {
     "data": {
      "image/png": "[encoded data removed]",
      "text/plain": [
       "<matplotlib.figure.Figure at 0x7f7eb27c2390>"
      ]
     },
     "metadata": {},
     "output_type": "display_data"
    },
    {
     "data": {
      "image/png": "[encoded data removed]",
      "text/plain": [
       "<matplotlib.figure.Figure at 0x7f7eb243b630>"
      ]
     },
     "metadata": {},
     "output_type": "display_data"
    }
   ],
   "source": [
    "# CELL 4\n",
    "\n",
    "### Draw random examples from each split\n",
    "\n",
    "sbs.reset_defaults()\n",
    "\n",
    "num_examples_train = 4\n",
    "examples_train = [rnd.randint(0, n_train) for r in range(num_examples_train)]\n",
    "\n",
    "fig_examples_train = plt.figure(figsize=(16, 6))\n",
    "for i in range(num_examples_train):\n",
    "    fig_examples_train.add_subplot(1, num_examples_train, i+1)\n",
    "    plt.title('class: {}'.format(y_train[examples_train[i]]))  \n",
    "    plt.imshow(X_train[examples_train[i]])\n",
    "    \n",
    "num_examples_test = 4\n",
    "examples_test = [rnd.randint(0, n_test) for r in range(num_examples_test)]\n",
    "\n",
    "fig_examples_test = plt.figure(figsize=(16, 6))\n",
    "for i in range(num_examples_test):\n",
    "    fig_examples_test.add_subplot(1, num_examples_test, i+1)\n",
    "    plt.title('class: {}'.format(y_test[examples_test[i]]))  \n",
    "    plt.imshow(X_test[examples_test[i]])\n",
    "    \n",
    "num_examples_valid = 4\n",
    "examples_valid = [rnd.randint(0, n_valid) for r in range(num_examples_valid)]\n",
    "\n",
    "fig_examples_valid = plt.figure(figsize=(16, 6))\n",
    "for i in range(num_examples_valid):\n",
    "    fig_examples_valid.add_subplot(1, num_examples_valid, i+1)\n",
    "    plt.title('class: {}'.format(y_valid[examples_valid[i]]))  \n",
    "    plt.imshow(X_valid[examples_valid[i]])\n",
    "    \n",
    "sbs.set()\n",
    "\n",
    "### Show per-class occurrences for training/test/valid splits\n",
    "\n",
    "N = n_classes\n",
    "train_occurrences = [list(y_train).count(x) for x in set(y_train)]\n",
    "test_occurrences = [list(y_test).count(x) for x in set(y_test)]\n",
    "valid_occurrences = [list(y_valid).count(x) for x in set(y_valid)]\n",
    "\n",
    "print(train_occurrences)\n",
    "print(test_occurrences)\n",
    "print(valid_occurrences)\n",
    "\n",
    "ind = np.arange(N)\n",
    "width = 0.5\n",
    "\n",
    "plt.figure(figsize=(12,8))\n",
    "\n",
    "p1 = plt.bar(ind, train_occurrences, width, color='#d62728', label=\"Train\")\n",
    "p2 = plt.bar(ind, test_occurrences, width, label=\"Test\")\n",
    "p3 = plt.bar(ind, valid_occurrences, width, label=\"Valid\")\n",
    "\n",
    "plt.ylabel('Examples')\n",
    "plt.xlabel('Class')\n",
    "plt.title('Dataset exploration')\n",
    "plt.xticks(ind)\n",
    "plt.legend(loc='upper center')\n",
    "\n",
    "plt.show()"
   ]
  },
  {
   "cell_type": "markdown",
   "metadata": {
    "deletable": true,
    "editable": true
   },
   "source": [
    "----\n",
    "\n",
    "## Step 2: Design and Test a Model Architecture\n",
    "\n",
    "Design and implement a deep learning model that learns to recognize traffic signs. Train and test your model on the [German Traffic Sign Dataset](http://benchmark.ini.rub.de/?section=gtsrb&subsection=dataset).\n",
    "\n",
    "The LeNet-5 implementation shown in the [classroom](https://classroom.udacity.com/nanodegrees/nd013/parts/fbf77062-5703-404e-b60c-95b78b2f3f9e/modules/6df7ae49-c61c-4bb2-a23e-6527e69209ec/lessons/601ae704-1035-4287-8b11-e2c2716217ad/concepts/d4aca031-508f-4e0b-b493-e7b706120f81) at the end of the CNN lesson is a solid starting point. You'll have to change the number of classes and possibly the preprocessing, but aside from that it's plug and play! \n",
    "\n",
    "With the LeNet-5 solution from the lecture, you should expect a validation set accuracy of about 0.89. To meet specifications, the validation set accuracy will need to be at least 0.93. It is possible to get an even higher accuracy, but 0.93 is the minimum for a successful project submission. \n",
    "\n",
    "There are various aspects to consider when thinking about this problem:\n",
    "\n",
    "- Neural network architecture (is the network over or underfitting?)\n",
    "- Play around preprocessing techniques (normalization, rgb to grayscale, etc)\n",
    "- Number of examples per label (some have more than others).\n",
    "- Generate fake data.\n",
    "\n",
    "Here is an example of a [published baseline model on this problem](http://yann.lecun.com/exdb/publis/pdf/sermanet-ijcnn-11.pdf). It's not required to be familiar with the approach used in the paper but, it's good practice to try to read papers like these."
   ]
  },
  {
   "cell_type": "markdown",
   "metadata": {
    "deletable": true,
    "editable": true
   },
   "source": [
    "### Pre-process the Data Set (normalization, grayscale, etc.)"
   ]
  },
  {
   "cell_type": "markdown",
   "metadata": {
    "deletable": true,
    "editable": true
   },
   "source": [
    "Use the code cell (or multiple code cells, if necessary) to implement the first step of your project."
   ]
  },
  {
   "cell_type": "code",
   "execution_count": 59,
   "metadata": {
    "collapsed": false,
    "deletable": true,
    "editable": true
   },
   "outputs": [
    {
     "data": {
      "image/png": "[encoded data removed]",
      "text/plain": [
       "<matplotlib.figure.Figure at 0x7f7e9c4158d0>"
      ]
     },
     "metadata": {},
     "output_type": "display_data"
    }
   ],
   "source": [
    "# CELL 5\n",
    "\n",
    "### Preprocess the data here. Preprocessing steps could include normalization, converting to grayscale, etc.\n",
    "### Feel free to use as many code cells as needed.\n",
    "\n",
    "def feature_normalization(data):\n",
    "    data = (data - 128.0) / 128\n",
    "    return data\n",
    "\n",
    "def feature_standardization(data):\n",
    "    data = data.astype(np.float32)\n",
    "    data -= np.mean(data, axis=0)\n",
    "    data /= np.std(data, axis=0)\n",
    "    return data\n",
    "\n",
    "def feature_rescaling(data, a=-0.5, b=0.5):\n",
    "    data_max = np.max(data)\n",
    "    data_min = np.min(data)\n",
    "    return a + (b - a) * ((data - data_min) / (data_max - data_min))\n",
    "\n",
    "def rgb_to_grayscale(images):\n",
    "    grayscale_images = []\n",
    "    n = len(images)\n",
    "    for i in range(n):\n",
    "        grayscale_images.append(cv2.cvtColor(images[i], cv2.COLOR_RGB2GRAY))\n",
    "    return np.reshape(grayscale_images, (-1, 32, 32, 1))\n",
    "\n",
    "def histogram_equalization(img):\n",
    "    #Histogram Equalization\n",
    "    img2=img.copy() \n",
    "    img2[:, :, 0] = cv2.equalizeHist(img[:, :, 0])\n",
    "    img2[:, :, 1] = cv2.equalizeHist(img[:, :, 1])\n",
    "    img2[:, :, 2] = cv2.equalizeHist(img[:, :, 2])\n",
    "    return img2\n",
    "\n",
    "def preprocess(images):\n",
    "    preprocessed_images = []\n",
    "    for i in images:\n",
    "        preprocessed_image = i\n",
    "        preprocessed_image = histogram_equalization(preprocessed_image)\n",
    "        preprocessed_image = feature_rescaling(preprocessed_image)\n",
    "        preprocessed_images.append(preprocessed_image)\n",
    "    return preprocessed_images\n",
    "\n",
    "X_train_preprocessed = preprocess(X_train)\n",
    "X_valid_preprocessed = preprocess(X_valid)\n",
    "X_test_preprocessed = preprocess(X_test)\n",
    "\n",
    "# Preprocessing example\n",
    "\n",
    "sbs.reset_defaults()\n",
    "fig_example_preprocessing = plt.figure()\n",
    "fig_example_preprocessing.add_subplot(1, 3, 1)\n",
    "plt.title('Input')  \n",
    "plt.imshow(X_train[1024])\n",
    "fig_example_preprocessing.add_subplot(1, 3, 2)\n",
    "plt.title('Equalized Histogram')  \n",
    "plt.imshow(histogram_equalization(X_train[1024]))\n",
    "fig_example_preprocessing.add_subplot(1, 3, 3)\n",
    "plt.title('Rescaled Features')  \n",
    "plt.imshow(feature_rescaling(histogram_equalization(X_train[1024])))\n",
    "sbs.set()\n",
    "\n",
    "\n",
    "# Output\n",
    "X_train_final = X_train_preprocessed\n",
    "y_train_final = y_train\n",
    "\n",
    "X_valid_final = X_valid_preprocessed\n",
    "y_valid_final = y_valid\n",
    "\n",
    "X_test_final = X_test_preprocessed\n",
    "y_test_final = y_test"
   ]
  },
  {
   "cell_type": "markdown",
   "metadata": {
    "deletable": true,
    "editable": true
   },
   "source": [
    "### Model Architecture"
   ]
  },
  {
   "cell_type": "code",
   "execution_count": 13,
   "metadata": {
    "collapsed": true,
    "deletable": true,
    "editable": true
   },
   "outputs": [],
   "source": [
    "# CELL 6\n",
    "\n",
    "### Define your architecture here.\n",
    "### Feel free to use as many code cells as needed.\n",
    "\n",
    "def LeNet(x):\n",
    "    # Hyperparameters\n",
    "    mu = 0\n",
    "    sigma = 0.01\n",
    "    \n",
    "    # Layer 1: Convolutional. Input = 32x32x3. Output = 28x28x6.\n",
    "    conv1_W = tf.Variable(tf.truncated_normal(shape = (5, 5, x.get_shape().as_list()[3], 6), mean = mu, stddev = sigma))\n",
    "    conv1_b = tf.Variable(tf.zeros(6))\n",
    "    conv1 = tf.nn.conv2d(x, conv1_W, strides = [1, 1, 1, 1], padding = 'VALID') + conv1_b\n",
    "    # Layer 1: Activation.\n",
    "    conv1 = tf.nn.relu(conv1)\n",
    "    # Layer 1: Pooling. Input = 28x28x6. Output = 14x14x6.\n",
    "    conv1 = tf.nn.max_pool(conv1, ksize = [1, 2, 2, 1], strides = [1, 2, 2, 1], padding = 'VALID')\n",
    "    \n",
    "    # Layer 2: Convolutional. Input = 14x14x6. Output = 10x10x16.\n",
    "    conv2_W = tf.Variable(tf.truncated_normal(shape = (5, 5, 6, 16), mean = mu, stddev = sigma))\n",
    "    conv2_b = tf.Variable(tf.zeros(16))\n",
    "    conv2 = tf.nn.conv2d(conv1, conv2_W, strides = [1, 1, 1, 1], padding = 'VALID') + conv2_b\n",
    "    # Layer 2: Activation.\n",
    "    conv2 = tf.nn.relu(conv2)\n",
    "    # Layer 2: Pooling. Input = 10x10x16. Output = 5x5x16.\n",
    "    conv2 = tf.nn.max_pool(conv2, ksize = [1, 2, 2, 1], strides = [1, 2, 2, 1], padding = 'VALID')\n",
    "    \n",
    "    # Flatten before fully connected\n",
    "    fc0 = flatten(conv2)\n",
    "    \n",
    "    # Layer 3: Fully Connected. Input = (5x5x16) flattened = 400. Output = 1024.\n",
    "    fc1_W = tf.Variable(tf.truncated_normal(shape = (400, 1024), mean = mu, stddev = sigma))\n",
    "    fc1_b = tf.Variable(tf.zeros(1024))\n",
    "    fc1 = tf.matmul(fc0, fc1_W) + fc1_b\n",
    "    # Layer 3: Activation.\n",
    "    fc1 = tf.nn.relu(fc1)\n",
    "    # Layer 3: Dropout\n",
    "    fc1 = tf.nn.dropout(fc1, keep_prob)\n",
    "    \n",
    "    # Layer 4: Fully Connected. Input = 1024. Output = 1024.\n",
    "    fc2_W = tf.Variable(tf.truncated_normal(shape = (1024, 1024), mean = mu, stddev = sigma))\n",
    "    fc2_b = tf.Variable(tf.zeros(1024))\n",
    "    fc2 = tf.matmul(fc1, fc2_W) + fc2_b\n",
    "    # Layer 4: Activation.\n",
    "    fc2 = tf.nn.relu(fc2)\n",
    "    # Layer 4: Dropout\n",
    "    fc2 = tf.nn.dropout(fc2, keep_prob)\n",
    "    \n",
    "    # Layer 5: Fully Connected. Input = 1024. Output = 43.\n",
    "    fc3_W = tf.Variable(tf.truncated_normal(shape = (1024, 43), mean = mu, stddev = sigma))\n",
    "    fc3_b = tf.Variable(tf.zeros(43))\n",
    "    logits = tf.matmul(fc2, fc3_W) + fc3_b\n",
    "    \n",
    "    return logits, [conv1_W, conv2_W, fc1_W, fc2_W, fc3_W]"
   ]
  },
  {
   "cell_type": "markdown",
   "metadata": {
    "deletable": true,
    "editable": true
   },
   "source": [
    "### Train, Validate and Test the Model"
   ]
  },
  {
   "cell_type": "markdown",
   "metadata": {
    "deletable": true,
    "editable": true
   },
   "source": [
    "A validation set can be used to assess how well the model is performing. A low accuracy on the training and validation\n",
    "sets imply underfitting. A high accuracy on the training set but low accuracy on the validation set implies overfitting."
   ]
  },
  {
   "cell_type": "code",
   "execution_count": 14,
   "metadata": {
    "collapsed": false,
    "deletable": true,
    "editable": true
   },
   "outputs": [],
   "source": [
    "# CELL 7\n",
    "\n",
    "x = tf.placeholder(tf.float32, (None, 32, 32, X_train_final[0].shape[2]))\n",
    "y = tf.placeholder(tf.int32, (None))\n",
    "keep_prob = tf.placeholder(tf.float32)\n",
    "one_hot_y = tf.one_hot(y, 43)\n",
    "\n",
    "def regularization_cost(weights, regularization):\n",
    "    reg_cost = 0.0\n",
    "    for weight in weights:\n",
    "        reg_cost += regularization * tf.nn.l2_loss(weight)\n",
    "    return reg_cost\n",
    "\n",
    "epochs = 32\n",
    "batch_size = 128\n",
    "learning_rate = 1e-3\n",
    "regularization_param = 1e-6\n",
    "\n",
    "logits, weights = LeNet(x)\n",
    "cross_entropy = tf.nn.softmax_cross_entropy_with_logits(logits = logits, labels = one_hot_y)\n",
    "loss_operation = tf.reduce_mean(cross_entropy) + regularization_cost(weights, regularization_param)\n",
    "optimizer = tf.train.AdamOptimizer(learning_rate = learning_rate)\n",
    "training_op = optimizer.minimize(loss_operation)"
   ]
  },
  {
   "cell_type": "code",
   "execution_count": 15,
   "metadata": {
    "collapsed": false,
    "deletable": true,
    "editable": true
   },
   "outputs": [],
   "source": [
    "# CELL 8\n",
    "\n",
    "correct_prediction = tf.equal(tf.argmax(logits, 1), tf.argmax(one_hot_y, 1))\n",
    "accuracy_operation = tf.reduce_mean(tf.cast(correct_prediction, tf.float32))\n",
    "\n",
    "def evaluate(X_data, y_data):\n",
    "    num_examples = len(X_data)\n",
    "    total_loss = 0\n",
    "    total_accuracy = 0\n",
    "    sess = tf.get_default_session()\n",
    "    for offset in range(0, num_examples, batch_size):\n",
    "        batch_x, batch_y = X_data[offset:offset + batch_size], y_data[offset:offset + batch_size]\n",
    "        loss, accuracy = sess.run([loss_operation, accuracy_operation], feed_dict = {x: batch_x, y: batch_y, keep_prob: 1.0})\n",
    "        total_accuracy += (accuracy * len(batch_x))\n",
    "        total_loss += (loss * len(batch_x))\n",
    "    return total_loss / num_examples, total_accuracy / num_examples"
   ]
  },
  {
   "cell_type": "code",
   "execution_count": 17,
   "metadata": {
    "collapsed": false,
    "deletable": true,
    "editable": true
   },
   "outputs": [
    {
     "name": "stdout",
     "output_type": "stream",
     "text": [
      "Training...\n",
      "\n",
      "Epoch 1 ...\n",
      "Training loss = 1.712\n",
      "Training accuracy = 0.413\n",
      "Validation loss = 1.880\n",
      "Validation accuracy = 0.378\n",
      "\n",
      "BEST MODEL! Saved!\n",
      "\n",
      "Epoch 2 ...\n",
      "Training loss = 0.630\n",
      "Training accuracy = 0.804\n",
      "Validation loss = 0.814\n",
      "Validation accuracy = 0.742\n",
      "\n",
      "BEST MODEL! Saved!\n",
      "\n",
      "Epoch 3 ...\n",
      "Training loss = 0.261\n",
      "Training accuracy = 0.919\n",
      "Validation loss = 0.413\n",
      "Validation accuracy = 0.860\n",
      "\n",
      "BEST MODEL! Saved!\n",
      "\n",
      "Epoch 4 ...\n",
      "Training loss = 0.154\n",
      "Training accuracy = 0.958\n",
      "Validation loss = 0.345\n",
      "Validation accuracy = 0.900\n",
      "\n",
      "BEST MODEL! Saved!\n",
      "\n",
      "Epoch 5 ...\n",
      "Training loss = 0.092\n",
      "Training accuracy = 0.975\n",
      "Validation loss = 0.279\n",
      "Validation accuracy = 0.934\n",
      "\n",
      "BEST MODEL! Saved!\n",
      "\n",
      "Epoch 6 ...\n",
      "Training loss = 0.069\n",
      "Training accuracy = 0.982\n",
      "Validation loss = 0.252\n",
      "Validation accuracy = 0.936\n",
      "\n",
      "BEST MODEL! Saved!\n",
      "\n",
      "Epoch 7 ...\n",
      "Training loss = 0.051\n",
      "Training accuracy = 0.986\n",
      "Validation loss = 0.251\n",
      "Validation accuracy = 0.938\n",
      "\n",
      "BEST MODEL! Saved!\n",
      "\n",
      "Epoch 8 ...\n",
      "Training loss = 0.042\n",
      "Training accuracy = 0.988\n",
      "Validation loss = 0.200\n",
      "Validation accuracy = 0.941\n",
      "\n",
      "BEST MODEL! Saved!\n",
      "\n",
      "Epoch 9 ...\n",
      "Training loss = 0.025\n",
      "Training accuracy = 0.993\n",
      "Validation loss = 0.218\n",
      "Validation accuracy = 0.948\n",
      "\n",
      "BEST MODEL! Saved!\n",
      "\n",
      "Epoch 10 ...\n",
      "Training loss = 0.024\n",
      "Training accuracy = 0.994\n",
      "Validation loss = 0.183\n",
      "Validation accuracy = 0.955\n",
      "\n",
      "BEST MODEL! Saved!\n",
      "\n",
      "Epoch 11 ...\n",
      "Training loss = 0.018\n",
      "Training accuracy = 0.996\n",
      "Validation loss = 0.193\n",
      "Validation accuracy = 0.954\n",
      "\n",
      "Epoch 12 ...\n",
      "Training loss = 0.022\n",
      "Training accuracy = 0.995\n",
      "Validation loss = 0.204\n",
      "Validation accuracy = 0.955\n",
      "\n",
      "BEST MODEL! Saved!\n",
      "\n",
      "Epoch 13 ...\n",
      "Training loss = 0.011\n",
      "Training accuracy = 0.998\n",
      "Validation loss = 0.207\n",
      "Validation accuracy = 0.954\n",
      "\n",
      "Epoch 14 ...\n",
      "Training loss = 0.009\n",
      "Training accuracy = 0.999\n",
      "Validation loss = 0.162\n",
      "Validation accuracy = 0.958\n",
      "\n",
      "BEST MODEL! Saved!\n",
      "\n",
      "Epoch 15 ...\n",
      "Training loss = 0.009\n",
      "Training accuracy = 0.998\n",
      "Validation loss = 0.135\n",
      "Validation accuracy = 0.963\n",
      "\n",
      "BEST MODEL! Saved!\n",
      "\n",
      "Epoch 16 ...\n",
      "Training loss = 0.012\n",
      "Training accuracy = 0.997\n",
      "Validation loss = 0.180\n",
      "Validation accuracy = 0.954\n",
      "\n",
      "Epoch 17 ...\n",
      "Training loss = 0.006\n",
      "Training accuracy = 0.999\n",
      "Validation loss = 0.139\n",
      "Validation accuracy = 0.964\n",
      "\n",
      "BEST MODEL! Saved!\n",
      "\n",
      "Epoch 18 ...\n",
      "Training loss = 0.006\n",
      "Training accuracy = 0.999\n",
      "Validation loss = 0.135\n",
      "Validation accuracy = 0.963\n",
      "\n",
      "Epoch 19 ...\n",
      "Training loss = 0.007\n",
      "Training accuracy = 0.999\n",
      "Validation loss = 0.162\n",
      "Validation accuracy = 0.964\n",
      "\n",
      "Epoch 20 ...\n",
      "Training loss = 0.006\n",
      "Training accuracy = 0.999\n",
      "Validation loss = 0.204\n",
      "Validation accuracy = 0.953\n",
      "\n",
      "Epoch 21 ...\n",
      "Training loss = 0.007\n",
      "Training accuracy = 0.998\n",
      "Validation loss = 0.207\n",
      "Validation accuracy = 0.958\n",
      "\n",
      "Epoch 22 ...\n",
      "Training loss = 0.009\n",
      "Training accuracy = 0.998\n",
      "Validation loss = 0.174\n",
      "Validation accuracy = 0.961\n",
      "\n",
      "Epoch 23 ...\n",
      "Training loss = 0.005\n",
      "Training accuracy = 0.999\n",
      "Validation loss = 0.145\n",
      "Validation accuracy = 0.964\n",
      "\n",
      "Epoch 24 ...\n",
      "Training loss = 0.007\n",
      "Training accuracy = 0.999\n",
      "Validation loss = 0.134\n",
      "Validation accuracy = 0.962\n",
      "\n",
      "Epoch 25 ...\n",
      "Training loss = 0.004\n",
      "Training accuracy = 0.999\n",
      "Validation loss = 0.150\n",
      "Validation accuracy = 0.963\n",
      "\n",
      "Epoch 26 ...\n",
      "Training loss = 0.007\n",
      "Training accuracy = 0.999\n",
      "Validation loss = 0.198\n",
      "Validation accuracy = 0.955\n",
      "\n",
      "Epoch 27 ...\n",
      "Training loss = 0.005\n",
      "Training accuracy = 0.999\n",
      "Validation loss = 0.165\n",
      "Validation accuracy = 0.963\n",
      "\n",
      "Epoch 28 ...\n",
      "Training loss = 0.004\n",
      "Training accuracy = 1.000\n",
      "Validation loss = 0.127\n",
      "Validation accuracy = 0.967\n",
      "\n",
      "BEST MODEL! Saved!\n",
      "\n",
      "Epoch 29 ...\n",
      "Training loss = 0.004\n",
      "Training accuracy = 1.000\n",
      "Validation loss = 0.152\n",
      "Validation accuracy = 0.963\n",
      "\n",
      "Epoch 30 ...\n",
      "Training loss = 0.004\n",
      "Training accuracy = 1.000\n",
      "Validation loss = 0.143\n",
      "Validation accuracy = 0.963\n",
      "\n",
      "Epoch 31 ...\n",
      "Training loss = 0.006\n",
      "Training accuracy = 0.999\n",
      "Validation loss = 0.125\n",
      "Validation accuracy = 0.965\n",
      "\n",
      "Epoch 32 ...\n",
      "Training loss = 0.004\n",
      "Training accuracy = 1.000\n",
      "Validation loss = 0.152\n",
      "Validation accuracy = 0.967\n",
      "\n",
      "BEST MODEL! Saved!\n",
      "\n"
     ]
    }
   ],
   "source": [
    "# CELL 9\n",
    "\n",
    "def train(dataset_train, dataset_valid):\n",
    "    training_losses = []\n",
    "    training_accuracies = []\n",
    "    validation_losses = []\n",
    "    validation_accuracies = []\n",
    "    \n",
    "    best_validation_accuracy = 0\n",
    "\n",
    "    saver = tf.train.Saver()\n",
    "    with tf.Session() as sess:\n",
    "        sess.run(tf.global_variables_initializer())\n",
    "        num_examples = n_train\n",
    "        \n",
    "        print(\"Training...\")\n",
    "        print()\n",
    "\n",
    "        for i in range(epochs):\n",
    "            input_train, labels_train = shuffle(dataset_train[0], dataset_train[1])\n",
    "            for offset in range(0, num_examples, batch_size):\n",
    "                end = offset + batch_size\n",
    "                batch_input, batch_labels = input_train[offset:end], labels_train[offset:end]\n",
    "                sess.run(training_op, feed_dict = {x: batch_input, y: batch_labels, keep_prob: 0.5})\n",
    "\n",
    "            training_loss, training_accuracy = evaluate(input_train, labels_train)\n",
    "            validation_loss, validation_accuracy = evaluate(dataset_valid[0], dataset_valid[1])\n",
    "            \n",
    "            training_losses.append(training_loss)\n",
    "            training_accuracies.append(training_accuracy)\n",
    "            validation_losses.append(validation_loss)\n",
    "            validation_accuracies.append(validation_accuracy)\n",
    "            \n",
    "            print(\"Epoch {} ...\".format(i+1))\n",
    "            print(\"Training loss = {:.3f}\".format(training_loss))\n",
    "            print(\"Training accuracy = {:.3f}\".format(training_accuracy))\n",
    "            print(\"Validation loss = {:.3f}\".format(validation_loss))\n",
    "            print(\"Validation accuracy = {:.3f}\".format(validation_accuracy))\n",
    "            print()\n",
    "            \n",
    "            if validation_accuracy > best_validation_accuracy:\n",
    "                saver.save(sess, './lenet')\n",
    "                best_validation_accuracy = validation_accuracy\n",
    "                print(\"BEST MODEL! Saved!\")\n",
    "                print()\n",
    "        \n",
    "    return training_losses, training_accuracies, validation_losses, validation_accuracies\n",
    "        \n",
    "training_losses, training_accuracies, validation_losses, validation_accuracies = train([X_train_final, y_train_final], [X_valid_final, y_valid_final])"
   ]
  },
  {
   "cell_type": "code",
   "execution_count": 40,
   "metadata": {
    "collapsed": false,
    "deletable": true,
    "editable": true
   },
   "outputs": [
    {
     "data": {
      "image/png": "[encoded data removed]",
      "text/plain": [
       "<matplotlib.figure.Figure at 0x7f7e9cfe8978>"
      ]
     },
     "metadata": {},
     "output_type": "display_data"
    }
   ],
   "source": [
    "def plot_learning_curves(training_losses, training_accuracies, validation_losses, validation_accuracies):\n",
    "    epochs = np.arange(len(training_losses))\n",
    "    fig1 = plt.subplot(2, 1, 1)\n",
    "    plt.plot(epochs, training_losses, color='#76b900', linewidth=2.0, label='Training')\n",
    "    plt.plot(epochs, validation_losses, color='#990000', linewidth=2.0, label='Validation')\n",
    "\n",
    "    # plt.xlabel('epoch')\n",
    "    plt.ylabel('Loss')\n",
    "    plt.legend()\n",
    "\n",
    "    fig2 = plt.subplot(2, 1, 2)\n",
    "    major_ticks = np.arange(0.0, 1.1, 0.1)                                                                                   \n",
    "    fig2.set_yticks(major_ticks)                                                       \n",
    "    \n",
    "    plt.plot(epochs, training_accuracies, color='#76b900', linewidth=2.0, label='Training')\n",
    "    plt.plot(epochs, validation_accuracies, color='#990000', linewidth=2.0, label='Validation')\n",
    "\n",
    "    plt.xlabel('Epoch')\n",
    "    plt.ylabel('Accuracy')\n",
    "    plt.legend()\n",
    "\n",
    "    plt.show()\n",
    "    \n",
    "plot_learning_curves(training_losses, training_accuracies, validation_losses, validation_accuracies)"
   ]
  },
  {
   "cell_type": "code",
   "execution_count": 20,
   "metadata": {
    "collapsed": false,
    "deletable": true,
    "editable": true
   },
   "outputs": [
    {
     "name": "stdout",
     "output_type": "stream",
     "text": [
      "Test Accuracy = 0.945\n"
     ]
    }
   ],
   "source": [
    "### Calculate and report the accuracy on the training and validation set.\n",
    "### Once a final model architecture is selected, \n",
    "### the accuracy on the test set should be calculated and reported as well.\n",
    "### Feel free to use as many code cells as needed.\n",
    "with tf.Session() as sess:\n",
    "    saver = tf.train.Saver()\n",
    "    saver.restore(sess, tf.train.latest_checkpoint('.'))\n",
    "    test_loss, test_accuracy = evaluate(X_test_final, y_test)\n",
    "    print(\"Test Accuracy = {:.3f}\".format(test_accuracy))"
   ]
  },
  {
   "cell_type": "markdown",
   "metadata": {
    "deletable": true,
    "editable": true
   },
   "source": [
    "---\n",
    "\n",
    "## Step 3: Test a Model on New Images\n",
    "\n",
    "To give yourself more insight into how your model is working, download at least five pictures of German traffic signs from the web and use your model to predict the traffic sign type.\n",
    "\n",
    "You may find `signnames.csv` useful as it contains mappings from the class id (integer) to the actual sign name."
   ]
  },
  {
   "cell_type": "markdown",
   "metadata": {
    "deletable": true,
    "editable": true
   },
   "source": [
    "### Load and Output the Images"
   ]
  },
  {
   "cell_type": "code",
   "execution_count": null,
   "metadata": {
    "collapsed": false,
    "deletable": true,
    "editable": true
   },
   "outputs": [],
   "source": [
    "### Load the images and plot them here.\n",
    "### Feel free to use as many code cells as needed.\n",
    "num_examples_test = 5\n",
    "examples_test = [rnd.randint(0, n_test) for r in range(num_examples_test)]\n",
    "\n",
    "fig_examples_test = plt.figure(figsize=(16, 6))\n",
    "for i in range(num_examples_test):\n",
    "    fig_examples_test.add_subplot(1, num_examples_test, i+1)\n",
    "    plt.imshow(X_test[examples_test[i]])\n",
    "    \n",
    "X_new_images = [X_test[i] for i in examples_test]\n",
    "y_new_images = [y_test[i] for i in examples_test]\n",
    "\n",
    "X_new_images, y_new_images = preprocess(X_new_images, y_new_images)"
   ]
  },
  {
   "cell_type": "markdown",
   "metadata": {
    "deletable": true,
    "editable": true
   },
   "source": [
    "### Predict the Sign Type for Each Image"
   ]
  },
  {
   "cell_type": "code",
   "execution_count": null,
   "metadata": {
    "collapsed": false,
    "deletable": true,
    "editable": true
   },
   "outputs": [],
   "source": [
    "### Run the predictions here and use the model to output the prediction for each image.\n",
    "### Make sure to pre-process the images with the same pre-processing pipeline used earlier.\n",
    "### Feel free to use as many code cells as needed.\n",
    "with tf.Session() as sess:\n",
    "    saver = tf.train.Saver()\n",
    "    saver.restore(sess, tf.train.latest_checkpoint('.'))\n",
    "    test_accuracy = evaluate(X_new_images, y_new_images)\n",
    "    print(\"Test Accuracy = {:.3f}\".format(test_accuracy))"
   ]
  },
  {
   "cell_type": "markdown",
   "metadata": {
    "deletable": true,
    "editable": true
   },
   "source": [
    "### Analyze Performance"
   ]
  },
  {
   "cell_type": "code",
   "execution_count": null,
   "metadata": {
    "collapsed": true,
    "deletable": true,
    "editable": true
   },
   "outputs": [],
   "source": [
    "### Calculate the accuracy for these 5 new images. \n",
    "### For example, if the model predicted 1 out of 5 signs correctly, it's 20% accurate on these new images."
   ]
  },
  {
   "cell_type": "markdown",
   "metadata": {
    "deletable": true,
    "editable": true
   },
   "source": [
    "### Output Top 5 Softmax Probabilities For Each Image Found on the Web"
   ]
  },
  {
   "cell_type": "markdown",
   "metadata": {
    "deletable": true,
    "editable": true
   },
   "source": [
    "For each of the new images, print out the model's softmax probabilities to show the **certainty** of the model's predictions (limit the output to the top 5 probabilities for each image). [`tf.nn.top_k`](https://www.tensorflow.org/versions/r0.12/api_docs/python/nn.html#top_k) could prove helpful here. \n",
    "\n",
    "The example below demonstrates how tf.nn.top_k can be used to find the top k predictions for each image.\n",
    "\n",
    "`tf.nn.top_k` will return the values and indices (class ids) of the top k predictions. So if k=3, for each sign, it'll return the 3 largest probabilities (out of a possible 43) and the correspoding class ids.\n",
    "\n",
    "Take this numpy array as an example. The values in the array represent predictions. The array contains softmax probabilities for five candidate images with six possible classes. `tk.nn.top_k` is used to choose the three classes with the highest probability:\n",
    "\n",
    "```\n",
    "# (5, 6) array\n",
    "a = np.array([[ 0.24879643,  0.07032244,  0.12641572,  0.34763842,  0.07893497,\n",
    "         0.12789202],\n",
    "       [ 0.28086119,  0.27569815,  0.08594638,  0.0178669 ,  0.18063401,\n",
    "         0.15899337],\n",
    "       [ 0.26076848,  0.23664738,  0.08020603,  0.07001922,  0.1134371 ,\n",
    "         0.23892179],\n",
    "       [ 0.11943333,  0.29198961,  0.02605103,  0.26234032,  0.1351348 ,\n",
    "         0.16505091],\n",
    "       [ 0.09561176,  0.34396535,  0.0643941 ,  0.16240774,  0.24206137,\n",
    "         0.09155967]])\n",
    "```\n",
    "\n",
    "Running it through `sess.run(tf.nn.top_k(tf.constant(a), k=3))` produces:\n",
    "\n",
    "```\n",
    "TopKV2(values=array([[ 0.34763842,  0.24879643,  0.12789202],\n",
    "       [ 0.28086119,  0.27569815,  0.18063401],\n",
    "       [ 0.26076848,  0.23892179,  0.23664738],\n",
    "       [ 0.29198961,  0.26234032,  0.16505091],\n",
    "       [ 0.34396535,  0.24206137,  0.16240774]]), indices=array([[3, 0, 5],\n",
    "       [0, 1, 4],\n",
    "       [0, 5, 1],\n",
    "       [1, 3, 5],\n",
    "       [1, 4, 3]], dtype=int32))\n",
    "```\n",
    "\n",
    "Looking just at the first row we get `[ 0.34763842,  0.24879643,  0.12789202]`, you can confirm these are the 3 largest probabilities in `a`. You'll also notice `[3, 0, 5]` are the corresponding indices."
   ]
  },
  {
   "cell_type": "code",
   "execution_count": null,
   "metadata": {
    "collapsed": true,
    "deletable": true,
    "editable": true
   },
   "outputs": [],
   "source": [
    "### Print out the top five softmax probabilities for the predictions on the German traffic sign images found on the web. \n",
    "### Feel free to use as many code cells as needed."
   ]
  },
  {
   "cell_type": "markdown",
   "metadata": {
    "deletable": true,
    "editable": true
   },
   "source": [
    "---\n",
    "\n",
    "## Step 4: Visualize the Neural Network's State with Test Images\n",
    "\n",
    " This Section is not required to complete but acts as an additional excersise for understaning the output of a neural network's weights. While neural networks can be a great learning device they are often referred to as a black box. We can understand what the weights of a neural network look like better by plotting their feature maps. After successfully training your neural network you can see what it's feature maps look like by plotting the output of the network's weight layers in response to a test stimuli image. From these plotted feature maps, it's possible to see what characteristics of an image the network finds interesting. For a sign, maybe the inner network feature maps react with high activation to the sign's boundary outline or to the contrast in the sign's painted symbol.\n",
    "\n",
    " Provided for you below is the function code that allows you to get the visualization output of any tensorflow weight layer you want. The inputs to the function should be a stimuli image, one used during training or a new one you provided, and then the tensorflow variable name that represents the layer's state during the training process, for instance if you wanted to see what the [LeNet lab's](https://classroom.udacity.com/nanodegrees/nd013/parts/fbf77062-5703-404e-b60c-95b78b2f3f9e/modules/6df7ae49-c61c-4bb2-a23e-6527e69209ec/lessons/601ae704-1035-4287-8b11-e2c2716217ad/concepts/d4aca031-508f-4e0b-b493-e7b706120f81) feature maps looked like for it's second convolutional layer you could enter conv2 as the tf_activation variable.\n",
    "\n",
    "For an example of what feature map outputs look like, check out NVIDIA's results in their paper [End-to-End Deep Learning for Self-Driving Cars](https://devblogs.nvidia.com/parallelforall/deep-learning-self-driving-cars/) in the section Visualization of internal CNN State. NVIDIA was able to show that their network's inner weights had high activations to road boundary lines by comparing feature maps from an image with a clear path to one without. Try experimenting with a similar test to show that your trained network's weights are looking for interesting features, whether it's looking at differences in feature maps from images with or without a sign, or even what feature maps look like in a trained network vs a completely untrained one on the same sign image.\n",
    "\n",
    "<figure>\n",
    " <img src=\"visualize_cnn.png\" width=\"380\" alt=\"Combined Image\" />\n",
    " <figcaption>\n",
    " <p></p> \n",
    " <p style=\"text-align: center;\"> Your output should look something like this (above)</p> \n",
    " </figcaption>\n",
    "</figure>\n",
    " <p></p> \n"
   ]
  },
  {
   "cell_type": "code",
   "execution_count": null,
   "metadata": {
    "collapsed": true,
    "deletable": true,
    "editable": true
   },
   "outputs": [],
   "source": [
    "### Visualize your network's feature maps here.\n",
    "### Feel free to use as many code cells as needed.\n",
    "\n",
    "# image_input: the test image being fed into the network to produce the feature maps\n",
    "# tf_activation: should be a tf variable name used during your training procedure that represents the calculated state of a specific weight layer\n",
    "# activation_min/max: can be used to view the activation contrast in more detail, by default matplot sets min and max to the actual min and max values of the output\n",
    "# plt_num: used to plot out multiple different weight feature map sets on the same block, just extend the plt number for each new feature map entry\n",
    "\n",
    "def outputFeatureMap(image_input, tf_activation, activation_min=-1, activation_max=-1 ,plt_num=1):\n",
    "    # Here make sure to preprocess your image_input in a way your network expects\n",
    "    # with size, normalization, ect if needed\n",
    "    # image_input =\n",
    "    # Note: x should be the same name as your network's tensorflow data placeholder variable\n",
    "    # If you get an error tf_activation is not defined it maybe having trouble accessing the variable from inside a function\n",
    "    activation = tf_activation.eval(session=sess,feed_dict={x : image_input})\n",
    "    featuremaps = activation.shape[3]\n",
    "    plt.figure(plt_num, figsize=(15,15))\n",
    "    for featuremap in range(featuremaps):\n",
    "        plt.subplot(6,8, featuremap+1) # sets the number of feature maps to show on each row and column\n",
    "        plt.title('FeatureMap ' + str(featuremap)) # displays the feature map number\n",
    "        if activation_min != -1 & activation_max != -1:\n",
    "            plt.imshow(activation[0,:,:, featuremap], interpolation=\"nearest\", vmin =activation_min, vmax=activation_max, cmap=\"gray\")\n",
    "        elif activation_max != -1:\n",
    "            plt.imshow(activation[0,:,:, featuremap], interpolation=\"nearest\", vmax=activation_max, cmap=\"gray\")\n",
    "        elif activation_min !=-1:\n",
    "            plt.imshow(activation[0,:,:, featuremap], interpolation=\"nearest\", vmin=activation_min, cmap=\"gray\")\n",
    "        else:\n",
    "            plt.imshow(activation[0,:,:, featuremap], interpolation=\"nearest\", cmap=\"gray\")"
   ]
  },
  {
   "cell_type": "markdown",
   "metadata": {
    "deletable": true,
    "editable": true
   },
   "source": [
    "### Question 9\n",
    "\n",
    "Discuss how you used the visual output of your trained network's feature maps to show that it had learned to look for interesting characteristics in traffic sign images\n"
   ]
  },
  {
   "cell_type": "markdown",
   "metadata": {
    "deletable": true,
    "editable": true
   },
   "source": [
    "**Answer:**"
   ]
  },
  {
   "cell_type": "markdown",
   "metadata": {
    "deletable": true,
    "editable": true
   },
   "source": [
    "> **Note**: Once you have completed all of the code implementations and successfully answered each question above, you may finalize your work by exporting the iPython Notebook as an HTML document. You can do this by using the menu above and navigating to  \\n\",\n",
    "    \"**File -> Download as -> HTML (.html)**. Include the finished document along with this notebook as your submission."
   ]
  },
  {
   "cell_type": "markdown",
   "metadata": {
    "deletable": true,
    "editable": true
   },
   "source": [
    "### Project Writeup\n",
    "\n",
    "Once you have completed the code implementation, document your results in a project writeup using this [template](https://github.com/udacity/CarND-Traffic-Sign-Classifier-Project/blob/master/writeup_template.md) as a guide. The writeup can be in a markdown or pdf file. "
   ]
  }
 ],
 "metadata": {
  "anaconda-cloud": {},
  "kernelspec": {
   "display_name": "Python 3",
   "language": "python",
   "name": "python3"
  },
  "language_info": {
   "codemirror_mode": {
    "name": "ipython",
    "version": 3
   },
   "file_extension": ".py",
   "mimetype": "text/x-python",
   "name": "python",
   "nbconvert_exporter": "python",
   "pygments_lexer": "ipython3",
   "version": "3.5.2"
  },
  "widgets": {
   "state": {},
   "version": "1.1.2"
  }
 },
 "nbformat": 4,
 "nbformat_minor": 1
}
